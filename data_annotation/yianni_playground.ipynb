{
 "cells": [
  {
   "cell_type": "code",
   "execution_count": 97,
   "metadata": {},
   "outputs": [],
   "source": [
    "import pandas as pd\n",
    "import numpy as np\n",
    "import os\n",
    "import re\n",
    "import json\n",
    "import urllib.request\n",
    "from urllib.parse import quote_plus\n",
    "from datetime import datetime,timedelta\n",
    "from copy import copy\n",
    "from time import sleep\n",
    "import matplotlib as plt\n",
    "from sklearn.feature_extraction.text import TfidfVectorizer\n",
    "from copy import copy\n",
    "from gnews import GNews\n",
    "\n",
    "\n",
    "import selenium\n",
    "from bs4 import BeautifulSoup as bs\n",
    "\n",
    "\n"
   ]
  },
  {
   "cell_type": "code",
   "execution_count": 71,
   "metadata": {},
   "outputs": [],
   "source": [
    "class Movie:\n",
    "    def __init__(self, title, actors, directors,release_date, gross_income, query):\n",
    "        self.title = title\n",
    "        self.actors = actors\n",
    "        self.directors = directors\n",
    "        self.release_date = release_date\n",
    "        self.gross_income = gross_income\n",
    "        self.query = query\n",
    "        \n",
    "    def get_df(self):\n",
    "        print(\"fetching articles\")\n",
    "        self.fetch_articles()\n",
    "        print(f\"{self.df.shape[0]} Articles found\")\n",
    "\n",
    "        print(\"getting text\")\n",
    "        self.get_full_text()\n",
    "        print(f\"{self.df.shape[0]} Articles with full text\")\n",
    "\n",
    "        print(\"categorizing\")\n",
    "        self.categorize_articles()\n",
    "        print(f\"{self.df.shape[0]} Articles categorized\")\n",
    "    \n",
    "    def fetch_articles(self):\n",
    "        month_before = self.release_date - timedelta(days=30)\n",
    "        month_after = self.release_date + timedelta(days=30)\n",
    "        sd = (month_before.year,month_before.month,month_before.day)\n",
    "        rd = (self.release_date.year,self.release_date.month,self.release_date.day)\n",
    "        ed = (month_after.year,month_after.month,month_after.day)\n",
    "\n",
    "        self.google_news = GNews(language='en', country='US', start_date=sd, end_date=ed, max_results=500)\n",
    "        \n",
    "        gnews1 = GNews(language='en', country='US', start_date=sd, end_date=rd, max_results=500)\n",
    "        gnews2 = GNews(language='en', country='US', start_date=rd, end_date=ed, max_results=500)\n",
    "\n",
    "        self.df = self.fetch_articles_for_keyword(gnews1,self.title)\n",
    "        self.df = self.df.append(self.fetch_articles_for_keyword(gnews2,self.title))\n",
    "        for a in self.actors:\n",
    "            self.df = self.df.append(self.fetch_articles_for_keyword(gnews1, a))\n",
    "            self.df = self.df.append(self.fetch_articles_for_keyword(gnews2, a))\n",
    "            \n",
    "        for d in self.directors:\n",
    "            self.df = self.df.append(self.fetch_articles_for_keyword(gnews1,d))\n",
    "            self.df = self.df.append(self.fetch_articles_for_keyword(gnews2,d))\n",
    "\n",
    "        self.df = self.df.drop_duplicates(subset='url')\n",
    "        self.df['text'] = \"\"\n",
    "        \n",
    "    def fetch_articles_for_keyword(self,gnews,keyword):\n",
    "        df = pd.DataFrame(gnews.get_news(keyword))\n",
    "        print(f\"{keyword}: {df.shape[0]} Articles found\")\n",
    "        return df\n",
    "    \n",
    "    def get_full_text(self):\n",
    "        for index, article in self.df.iterrows():\n",
    "            if article['text'] == \"\":\n",
    "                url = article['url']\n",
    "                try:\n",
    "                    # Get full article using gnews.get_full_article\n",
    "                    full_article = self.google_news.get_full_article(url)\n",
    "\n",
    "                    if full_article and hasattr(full_article, 'text'):\n",
    "                        self.df.at[index, 'text'] = full_article.text\n",
    "                    else:\n",
    "                        pass\n",
    "    #                     print(f\"Could not extract text from article at {url}\")\n",
    "                except Exception as e:\n",
    "                    pass\n",
    "    #                 print(f\"Error processing article at {url}: {e}\\n\")\n",
    "                    \n",
    "    \n",
    "    def categorize_articles(self):\n",
    "        category_keywords = {\n",
    "            \"Box Office Performance and Industry Impact\": [\"box office\", \"sales\", \"grossing\", \"financial\", \"industry impact\", \"ticket sales\", \"revenue\", \"economic\", \"market\", \"record-breaking\", \"earnings\"],\n",
    "            \"Cultural and Social Commentary\": [\"cultural\", \"social impact\", \"gender roles\", \"feminism\", \"representation\", \"diversity\", \"social norms\", \"influence\", \"identity\", \"societal\", \"empowerment\"],\n",
    "            \"Behind-the-Scenes and Production Insights\": self.directors + [\"behind-the-scenes\", \"production\", \"filming\", \"director\", \"cast interviews\", \"making of\", \"set design\", \"shooting\", \"cinematography\", \"screenplay\", \"script\"],\n",
    "            \"Fashion and Aesthetics\": [\"fashion\", \"costumes\", \"design\", \"style\", \"aesthetics\", \"Barbie Pink\", \"wardrobe\", \"outfits\", \"makeup\", \"visual style\", \"art direction\"],\n",
    "            \"Celebrity and Cast Focus\": self.actors + [\"cast\", \"actor\", \"actress\", \"celebrity\", \"interview\", \"performance\", \"star\", \"cast insights\"],\n",
    "            \"Marketing and Promotional Strategies\": [\"marketing\", \"promotion\", \"advertising\", \"campaign\", \"trailer\", \"merchandise\", \"PR\", \"public relations\", \"branding\", \"launch\", \"premiere\"],\n",
    "            \"Fan and Audience Reactions\": [\"fans\", \"audience\", \"reaction\", \"reviews\", \"social media\", \"memes\", \"hashtags\", \"trending\", \"viewership\", \"audience response\", \"feedback\", \"TikTok\", \"Twitter\", \"Instagram\", \"Facebook\"],\n",
    "            \"Critique and Reviews\": [\"review\", \"critique\", \"analysis\", \"rating\", \"criticism\", \"opinion\", \"film review\", \"movie critique\", \"reception\", \"critical\", \"commentary\"],\n",
    "            \"Merchandise and Commercial Tie-Ins\": [\"merchandise\", \"toys\", \"product\", \"commercial\", \"tie-in\", \"retail\", \"sales\", \"Barbie doll\", \"collectibles\", \"brand partnership\", \"licensed\"],\n",
    "            \"Global and Political Perspectives\": [\"global\", \"international\", \"political\", \"controversy\", \"ban\", \"censorship\", \"cross-cultural\", \"diplomacy\", \"worldwide\", \"geopolitical\", \"policy\"]\n",
    "        }\n",
    "        \n",
    "        for category, keywords in category_keywords.items():\n",
    "            self.df[category] = False\n",
    "        self.df['Uncategorized'] = False\n",
    "        \n",
    "        for index, row in self.df.iterrows():\n",
    "            c_count = 0\n",
    "            for category, keywords in category_keywords.items():\n",
    "                if any(keyword in row['text'] for keyword in keywords):\n",
    "                    c_count += 1\n",
    "                    self.df.at[index, category] = True\n",
    "            if c_count == 0:\n",
    "                self.df.at[index, 'Uncategorized'] = True\n",
    "\n",
    "                \n",
    "\n",
    "            "
   ]
  },
  {
   "cell_type": "code",
   "execution_count": null,
   "metadata": {},
   "outputs": [],
   "source": []
  },
  {
   "cell_type": "code",
   "execution_count": 72,
   "metadata": {
    "scrolled": false
   },
   "outputs": [
    {
     "name": "stdout",
     "output_type": "stream",
     "text": [
      "fetching articles\n",
      "Barbie: 90 Articles found\n",
      "Barbie: 93 Articles found\n",
      "Margot Robbie: 93 Articles found\n",
      "Margot Robbie: 97 Articles found\n",
      "Ryan Gosling: 98 Articles found\n",
      "Ryan Gosling: 94 Articles found\n",
      "Greta Gerwig: 93 Articles found\n",
      "Greta Gerwig: 98 Articles found\n",
      "708 Articles found\n",
      "getting text\n",
      "An error occurred while fetching the article: Article `download()` failed with 403 Client Error: Forbidden for url: https://www.wsj.com/articles/barbie-movie-ruth-handler-2f929140 on URL https://news.google.com/rss/articles/CBMiP2h0dHBzOi8vd3d3Lndzai5jb20vYXJ0aWNsZXMvYmFyYmllLW1vdmllLXJ1dGgtaGFuZGxlci0yZjkyOTE0MNIBAA?oc=5&hl=en-CA&gl=CA&ceid=CA:en\n",
      "An error occurred while fetching the article: Article `download()` failed with 403 Client Error: Forbidden for url: https://www.wsj.com/articles/barbie-movie-merch-margot-b61cca7b on URL https://news.google.com/rss/articles/CBMiP2h0dHBzOi8vd3d3Lndzai5jb20vYXJ0aWNsZXMvYmFyYmllLW1vdmllLW1lcmNoLW1hcmdvdC1iNjFjY2E3YtIBAA?oc=5&hl=en-CA&gl=CA&ceid=CA:en\n",
      "An error occurred while fetching the article: Article `download()` failed with 403 Client Error: Forbidden for url: https://www.axios.com/2023/07/06/barbie-movie-marketing-power on URL https://news.google.com/rss/articles/CBMiPWh0dHBzOi8vd3d3LmF4aW9zLmNvbS8yMDIzLzA3LzA2L2JhcmJpZS1tb3ZpZS1tYXJrZXRpbmctcG93ZXLSAQA?oc=5&hl=en-CA&gl=CA&ceid=CA:en\n",
      "An error occurred while fetching the article: Article `download()` failed with 403 Client Error: Max restarts limit reached for url: https://www.forbes.com/sites/richardkestenbaum/2023/07/19/barbies-big-screen-debut-lures-toy-scammers/ on URL https://news.google.com/rss/articles/CBMiZmh0dHBzOi8vd3d3LmZvcmJlcy5jb20vc2l0ZXMvcmljaGFyZGtlc3RlbmJhdW0vMjAyMy8wNy8xOS9iYXJiaWVzLWJpZy1zY3JlZW4tZGVidXQtbHVyZXMtdG95LXNjYW1tZXJzL9IBamh0dHBzOi8vd3d3LmZvcmJlcy5jb20vc2l0ZXMvcmljaGFyZGtlc3RlbmJhdW0vMjAyMy8wNy8xOS9iYXJiaWVzLWJpZy1zY3JlZW4tZGVidXQtbHVyZXMtdG95LXNjYW1tZXJzL2FtcC8?oc=5&hl=en-CA&gl=CA&ceid=CA:en\n",
      "An error occurred while fetching the article: Article `download()` failed with ('Connection aborted.', RemoteDisconnected('Remote end closed connection without response')) on URL https://news.google.com/rss/articles/CBMiPmh0dHBzOi8vc2NyZWVucmFudC5jb20vYmFyYmllLW1pY2hhZWwtY2VyYS1hbGxhbi1vYnNlc3NlZC1rZW4v0gEA?oc=5&hl=en-CA&gl=CA&ceid=CA:en\n",
      "An error occurred while fetching the article: Article `download()` failed with HTTPSConnectionPool(host='www.kansascity.com', port=443): Read timed out. (read timeout=7) on URL https://news.google.com/rss/articles/CBMiO2h0dHBzOi8vd3d3LmthbnNhc2NpdHkuY29tL25ld3MvbG9jYWwvYXJ0aWNsZTI3NzIwMDY3My5odG1s0gE7aHR0cHM6Ly9hbXAua2Fuc2FzY2l0eS5jb20vbmV3cy9sb2NhbC9hcnRpY2xlMjc3MjAwNjczLmh0bWw?oc=5&hl=en-CA&gl=CA&ceid=CA:en\n",
      "An error occurred while fetching the article: Article `download()` failed with 401 Client Error: HTTP Forbidden for url: https://www.reuters.com/legal/litigation/barbie-or-burberry-mattel-says-brby-trademark-invites-confusion-2023-06-28/ on URL https://news.google.com/rss/articles/CBMidGh0dHBzOi8vd3d3LnJldXRlcnMuY29tL2xlZ2FsL2xpdGlnYXRpb24vYmFyYmllLW9yLWJ1cmJlcnJ5LW1hdHRlbC1zYXlzLWJyYnktdHJhZGVtYXJrLWludml0ZXMtY29uZnVzaW9uLTIwMjMtMDYtMjgv0gEA?oc=5&hl=en-CA&gl=CA&ceid=CA:en\n",
      "An error occurred while fetching the article: Article `download()` failed with 401 Client Error: HTTP Forbidden for url: https://www.reuters.com/lifestyle/barbie-movie-revives-interest-doll-collectors-market-2023-07-22/ on URL https://news.google.com/rss/articles/CBMiYmh0dHBzOi8vd3d3LnJldXRlcnMuY29tL2xpZmVzdHlsZS9iYXJiaWUtbW92aWUtcmV2aXZlcy1pbnRlcmVzdC1kb2xsLWNvbGxlY3RvcnMtbWFya2V0LTIwMjMtMDctMjIv0gEA?oc=5&hl=en-CA&gl=CA&ceid=CA:en\n",
      "708 Articles with full text\n",
      "categorizing\n",
      "708 Articles categorized\n"
     ]
    }
   ],
   "source": [
    "ba = [\"Margot Robbie\", \"Ryan Gosling\"]\n",
    "bd = [\"Greta Gerwig\"]\n",
    "br = datetime(2023, 7, 21)\n",
    "bgi = 1441000000\n",
    "bq = 'Barbie AND (\"Barbie Movie\" OR \"Margot Robbie\" OR \"Barbenheimer\" OR \"Greta Gerwig\")'\n",
    "barbie_movie = Movie('Barbie',ba,bd,br,bgi,bq)\n",
    "barbie_movie.get_df()"
   ]
  },
  {
   "cell_type": "code",
   "execution_count": 73,
   "metadata": {},
   "outputs": [
    {
     "name": "stdout",
     "output_type": "stream",
     "text": [
      "fetching articles\n",
      "Oppenheimer: 96 Articles found\n",
      "Oppenheimer: 92 Articles found\n",
      "Cillian Murphy: 95 Articles found\n",
      "Cillian Murphy: 96 Articles found\n",
      "Florence Pugh: 92 Articles found\n",
      "Florence Pugh: 94 Articles found\n",
      "Christopher Nolan: 97 Articles found\n",
      "Christopher Nolan: 94 Articles found\n",
      "703 Articles found\n",
      "getting text\n",
      "An error occurred while fetching the article: Article `download()` failed with 403 Client Error: Max restarts limit reached for url: https://www.forbes.com/sites/simonthompson/2023/07/19/why-playing-oppenheimer-left-cillian-murphy-exhausted-but-very-satisfied/ on URL https://news.google.com/rss/articles/CBMif2h0dHBzOi8vd3d3LmZvcmJlcy5jb20vc2l0ZXMvc2ltb250aG9tcHNvbi8yMDIzLzA3LzE5L3doeS1wbGF5aW5nLW9wcGVuaGVpbWVyLWxlZnQtY2lsbGlhbi1tdXJwaHktZXhoYXVzdGVkLWJ1dC12ZXJ5LXNhdGlzZmllZC_SAYMBaHR0cHM6Ly93d3cuZm9yYmVzLmNvbS9zaXRlcy9zaW1vbnRob21wc29uLzIwMjMvMDcvMTkvd2h5LXBsYXlpbmctb3BwZW5oZWltZXItbGVmdC1jaWxsaWFuLW11cnBoeS1leGhhdXN0ZWQtYnV0LXZlcnktc2F0aXNmaWVkL2FtcC8?oc=5&hl=en-CA&gl=CA&ceid=CA:en\n",
      "An error occurred while fetching the article: Article `download()` failed with ('Connection aborted.', RemoteDisconnected('Remote end closed connection without response')) on URL https://news.google.com/rss/articles/CBMiXmh0dHBzOi8vc2NyZWVucmFudC5jb20vb3BwZW5oZWltZXItbW92aWUtY2hyaXN0b3BoZXItbm9sYW4tc291bmQtbWl4aW5nLWRpYWxvZ3VlLWlzc3Vlcy1maXhlZC_SAQA?oc=5&hl=en-CA&gl=CA&ceid=CA:en\n",
      "An error occurred while fetching the article: Article `download()` failed with 403 Client Error: Forbidden for url: https://lamag.com/film/christopher-nolan-oppenheimer-box-office on URL https://news.google.com/rss/articles/CBMiP2h0dHBzOi8vbGFtYWcuY29tL2ZpbG0vY2hyaXN0b3BoZXItbm9sYW4tb3BwZW5oZWltZXItYm94LW9mZmljZdIBAA?oc=5&hl=en-CA&gl=CA&ceid=CA:en\n",
      "An error occurred while fetching the article: Article `download()` failed with ('Connection aborted.', RemoteDisconnected('Remote end closed connection without response')) on URL https://news.google.com/rss/articles/CBMiVmh0dHBzOi8vZ2FtZXJhbnQuY29tL2NocmlzdG9waGVyLW5vbGFuLW9wcGVuaGVpbWVyLXJvYmVydC1wYXR0aW5zb24tdGVuZXQtaW5zcGlyYXRpb24v0gEA?oc=5&hl=en-CA&gl=CA&ceid=CA:en\n",
      "An error occurred while fetching the article: Article `download()` failed with 403 Client Error: Max restarts limit reached for url: https://www.forbes.com/sites/bennyhareven/2023/07/14/the-top-8-best-ways-to-see-oppenheimer--and-why-imax-1570-is-the-winner/ on URL https://news.google.com/rss/articles/CBMifWh0dHBzOi8vd3d3LmZvcmJlcy5jb20vc2l0ZXMvYmVubnloYXJldmVuLzIwMjMvMDcvMTQvdGhlLXRvcC04LWJlc3Qtd2F5cy10by1zZWUtb3BwZW5oZWltZXItLWFuZC13aHktaW1heC0xNTcwLWlzLXRoZS13aW5uZXIv0gGBAWh0dHBzOi8vd3d3LmZvcmJlcy5jb20vc2l0ZXMvYmVubnloYXJldmVuLzIwMjMvMDcvMTQvdGhlLXRvcC04LWJlc3Qtd2F5cy10by1zZWUtb3BwZW5oZWltZXItLWFuZC13aHktaW1heC0xNTcwLWlzLXRoZS13aW5uZXIvYW1wLw?oc=5&hl=en-CA&gl=CA&ceid=CA:en\n",
      "An error occurred while fetching the article: Article `download()` failed with 403 Client Error: Max restarts limit reached for url: https://www.forbes.com/sites/anthonydemarco/2023/07/19/6-vintage-hamilton-watches-appear-in-oppenheimer/ on URL https://news.google.com/rss/articles/CBMiaGh0dHBzOi8vd3d3LmZvcmJlcy5jb20vc2l0ZXMvYW50aG9ueWRlbWFyY28vMjAyMy8wNy8xOS82LXZpbnRhZ2UtaGFtaWx0b24td2F0Y2hlcy1hcHBlYXItaW4tb3BwZW5oZWltZXIv0gFsaHR0cHM6Ly93d3cuZm9yYmVzLmNvbS9zaXRlcy9hbnRob255ZGVtYXJjby8yMDIzLzA3LzE5LzYtdmludGFnZS1oYW1pbHRvbi13YXRjaGVzLWFwcGVhci1pbi1vcHBlbmhlaW1lci9hbXAv?oc=5&hl=en-CA&gl=CA&ceid=CA:en\n",
      "An error occurred while fetching the article: Article `download()` failed with ('Connection aborted.', RemoteDisconnected('Remote end closed connection without response')) on URL https://news.google.com/rss/articles/CBMiUmh0dHBzOi8vc2NyZWVucmFudC5jb20vb3BwZW5oZWltZXItbWF0dC1kYW1vbi1yZXNwb25zZS1jaHJpc3RvcGhlci1ub2xhbi1vZmZlbmRlZC_SAQA?oc=5&hl=en-CA&gl=CA&ceid=CA:en\n",
      "An error occurred while fetching the article: Article `download()` failed with ('Connection aborted.', RemoteDisconnected('Remote end closed connection without response')) on URL https://news.google.com/rss/articles/CBMiPGh0dHBzOi8vc2NyZWVucmFudC5jb20vaXMtb3BwZW5oZWltZXItbW92aWUtYmFubmVkLWluLWphcGFuL9IBAA?oc=5&hl=en-CA&gl=CA&ceid=CA:en\n",
      "An error occurred while fetching the article: Article `download()` failed with ('Connection aborted.', RemoteDisconnected('Remote end closed connection without response')) on URL https://news.google.com/rss/articles/CBMiT2h0dHBzOi8vZ2FtZXJhbnQuY29tL2NocmlzdG9waGVyLW5vbGFuLW9wcGVuaGVpbWVyLW1hbmhhdHRhbi1wcm9qZWN0LWV4cGxhaW5lZC_SAQA?oc=5&hl=en-CA&gl=CA&ceid=CA:en\n",
      "An error occurred while fetching the article: Article `download()` failed with ('Connection aborted.', RemoteDisconnected('Remote end closed connection without response')) on URL https://news.google.com/rss/articles/CBMiWWh0dHBzOi8vc2NyZWVucmFudC5jb20vb3BwZW5oZWltZXItbW92aWUtYmxhY2std2hpdGUtY29sb3ItZGlmZmVyZW5jZXMtY2hhbmdlcy1leHBsYWluZWQv0gEA?oc=5&hl=en-CA&gl=CA&ceid=CA:en\n",
      "An error occurred while fetching the article: Article `download()` failed with ('Connection aborted.', RemoteDisconnected('Remote end closed connection without response')) on URL https://news.google.com/rss/articles/CBMiRWh0dHBzOi8vc2NyZWVucmFudC5jb20vb3BwZW5oZWltZXItbGVzbGllLWdyb3Zlcy13aGF0LWhhcHBlbmVkLWFmdGVyL9IBAA?oc=5&hl=en-CA&gl=CA&ceid=CA:en\n",
      "An error occurred while fetching the article: Article `download()` failed with ('Connection aborted.', RemoteDisconnected('Remote end closed connection without response')) on URL https://news.google.com/rss/articles/CBMiRGh0dHBzOi8vY29sbGlkZXIuY29tL29wcGVuaGVpbWVyLXBhdWwtbmV3bWFuLWZhdC1tYW4tYW5kLWxpdHRsZS1ib3kv0gEA?oc=5&hl=en-CA&gl=CA&ceid=CA:en\n"
     ]
    },
    {
     "name": "stderr",
     "output_type": "stream",
     "text": [
      "12/10/2023 04:58:50 PM - newspaper ignoring lxml node error: Input object is not an XML element: HtmlProcessingInstruction\n"
     ]
    },
    {
     "name": "stdout",
     "output_type": "stream",
     "text": [
      "An error occurred while fetching the article: Article `download()` failed with ('Connection aborted.', RemoteDisconnected('Remote end closed connection without response')) on URL https://news.google.com/rss/articles/CBMiS2h0dHBzOi8vc2NyZWVucmFudC5jb20vYmFyYmllLW9yLW9wcGVuaGVpbWVyLW1vdmllLXdhdGNoLWZpcnN0LWRvdWJsZS1iaWxsL9IBAA?oc=5&hl=en-CA&gl=CA&ceid=CA:en\n",
      "An error occurred while fetching the article: Article `download()` failed with 403 Client Error: Forbidden for url: https://www.nti.org/news/nti-experts-available-to-discuss-oppenheimer-film/ on URL https://news.google.com/rss/articles/CBMiS2h0dHBzOi8vd3d3Lm50aS5vcmcvbmV3cy9udGktZXhwZXJ0cy1hdmFpbGFibGUtdG8tZGlzY3Vzcy1vcHBlbmhlaW1lci1maWxtL9IBAA?oc=5&hl=en-CA&gl=CA&ceid=CA:en\n",
      "An error occurred while fetching the article: Article `download()` failed with ('Connection aborted.', RemoteDisconnected('Remote end closed connection without response')) on URL https://news.google.com/rss/articles/CBMiVWh0dHBzOi8vc2NyZWVucmFudC5jb20vb3BwZW5oZWltZXItcmVhY3Rpb25zLWhvcnJvci1tb3ZpZS1jaHJpc3RvcGhlci1ub2xhbi1yZXNwb25zZS_SAQA?oc=5&hl=en-CA&gl=CA&ceid=CA:en\n",
      "An error occurred while fetching the article: Article `download()` failed with ('Connection aborted.', RemoteDisconnected('Remote end closed connection without response')) on URL https://news.google.com/rss/articles/CBMiTmh0dHBzOi8vc2NyZWVucmFudC5jb20vY2hyaXN0b3BoZXItbm9sYW4tb3BwZW5oZWltZXItaG9ycm9yLW1vdmllLWJpZ2dlci1yaXNrL9IBAA?oc=5&hl=en-CA&gl=CA&ceid=CA:en\n",
      "An error occurred while fetching the article: Article `download()` failed with ('Connection aborted.', RemoteDisconnected('Remote end closed connection without response')) on URL https://news.google.com/rss/articles/CBMiXGh0dHBzOi8vc2NyZWVucmFudC5jb20vb3BwZW5oZWltZXItbW92aWUtaW5jZXB0aW9uLWVuZGluZy1jaHJpc3RvcGhlci1ub2xhbi1jb21wYXJpc29uLWdvb2Qv0gEA?oc=5&hl=en-CA&gl=CA&ceid=CA:en\n",
      "An error occurred while fetching the article: Article `download()` failed with ('Connection aborted.', RemoteDisconnected('Remote end closed connection without response')) on URL https://news.google.com/rss/articles/CBMiUmh0dHBzOi8vc2NyZWVucmFudC5jb20vYmFyYmllLW1vdmllLWJveC1vZmZpY2UtcHJvamVjdGlvbnMtb3BwZW5oZWltZXItY29tcGFyaXNvbi_SAQA?oc=5&hl=en-CA&gl=CA&ceid=CA:en\n",
      "An error occurred while fetching the article: Article `download()` failed with ('Connection aborted.', RemoteDisconnected('Remote end closed connection without response')) on URL https://news.google.com/rss/articles/CBMiYmh0dHBzOi8vd3d3LmNici5jb20vY2hyaXN0b3BoZXItbm9sYW4tZXhwbGFpbnMtdGhlLXJlbGF0aW9uc2hpcC1iZXR3ZWVuLWluY2VwdGlvbi1hbmQtb3BwZW5oZWltZXIv0gEA?oc=5&hl=en-CA&gl=CA&ceid=CA:en\n",
      "An error occurred while fetching the article: Article `download()` failed with ('Connection aborted.', RemoteDisconnected('Remote end closed connection without response')) on URL https://news.google.com/rss/articles/CBMiRGh0dHBzOi8vZ2FtZXJhbnQuY29tL29wcGVuaGVpbWVyLWNocmlzdG9waGVyLW5vbGFuLXItcmF0ZWQtZmVhdHVyZXMv0gEA?oc=5&hl=en-CA&gl=CA&ceid=CA:en\n",
      "An error occurred while fetching the article: Article `download()` failed with 403 Client Error: Forbidden for url: https://www.wsj.com/articles/oppenheimer-the-bhagavad-gita-and-indias-outrage-nudity-sacred-text-bomb-94e60202 on URL https://news.google.com/rss/articles/CBMibmh0dHBzOi8vd3d3Lndzai5jb20vYXJ0aWNsZXMvb3BwZW5oZWltZXItdGhlLWJoYWdhdmFkLWdpdGEtYW5kLWluZGlhcy1vdXRyYWdlLW51ZGl0eS1zYWNyZWQtdGV4dC1ib21iLTk0ZTYwMjAy0gEA?oc=5&hl=en-CA&gl=CA&ceid=CA:en\n",
      "An error occurred while fetching the article: Article `download()` failed with ('Connection aborted.', RemoteDisconnected('Remote end closed connection without response')) on URL https://news.google.com/rss/articles/CBMiOGh0dHBzOi8vY29sbGlkZXIuY29tL2NpbGxpYW4tbXVycGh5LW9wcGVuaGVpbWVyLWNhc3Rpbmcv0gEA?oc=5&hl=en-CA&gl=CA&ceid=CA:en\n",
      "An error occurred while fetching the article: Article `download()` failed with ('Connection aborted.', RemoteDisconnected('Remote end closed connection without response')) on URL https://news.google.com/rss/articles/CBMiV2h0dHBzOi8vc2NyZWVucmFudC5jb20vb3BwZW5oZWltZXItbW92aWUtbm8tbWljaGFlbC1jYWluZS1hcHBlYXJhbmNlLWNocmlzdG9waGVyLW5vbGFuL9IBAA?oc=5&hl=en-CA&gl=CA&ceid=CA:en\n",
      "703 Articles with full text\n",
      "categorizing\n",
      "703 Articles categorized\n"
     ]
    }
   ],
   "source": [
    "opa = [\"Cillian Murphy\",\"Florence Pugh\"]\n",
    "opd = [\"Christopher Nolan\"]\n",
    "opr = datetime(2023, 7, 21)\n",
    "opgi = 890000000\n",
    "opq = 'Oppenheimer AND (\"Christopher Nolan\" OR \"Cillian Murphy\" OR \"Oppenheimer Movie\" OR \"Barbenheimer\"'\n",
    "opp_movie = Movie('Oppenheimer',opa,opd,opr,opgi,opq)\n",
    "opp_movie.get_df()"
   ]
  },
  {
   "cell_type": "code",
   "execution_count": 74,
   "metadata": {},
   "outputs": [
    {
     "name": "stdout",
     "output_type": "stream",
     "text": [
      "fetching articles\n",
      "Mission: Impossible: 97 Articles found\n",
      "Mission: Impossible: 96 Articles found\n",
      "Tom Cruise: 97 Articles found\n",
      "Tom Cruise: 98 Articles found\n",
      "Hayley Atwell: 98 Articles found\n",
      "Hayley Atwell: 98 Articles found\n",
      "Christopher McQuarrie: 99 Articles found\n",
      "Christopher McQuarrie: 96 Articles found\n",
      "671 Articles found\n",
      "getting text\n",
      "An error occurred while fetching the article: Article `download()` failed with ('Connection aborted.', RemoteDisconnected('Remote end closed connection without response')) on URL https://news.google.com/rss/articles/CBMiTWh0dHBzOi8vc2NyZWVucmFudC5jb20vbWlzc2lvbi1pbXBvc3NpYmxlLTctd2VkbmVzZGF5LXJlbGVhc2UtZGF0ZS1leHBsYWluZWQv0gEA?oc=5&hl=en-CA&gl=CA&ceid=CA:en\n",
      "An error occurred while fetching the article: Article `download()` failed with ('Connection aborted.', RemoteDisconnected('Remote end closed connection without response')) on URL https://news.google.com/rss/articles/CBMiYmh0dHBzOi8vc2NyZWVucmFudC5jb20vbWlzc2lvbi1pbXBvc3NpYmxlLTgtZmlsbWluZy1wcm9kdWN0aW9uLXByb2dyZXNzLXVwZGF0ZXMtZGlyZWN0b3ItcmVzcG9uc2Uv0gEA?oc=5&hl=en-CA&gl=CA&ceid=CA:en\n",
      "An error occurred while fetching the article: Article `download()` failed with 401 Client Error: HTTP Forbidden for url: https://www.reuters.com/breakingviews/mission-impossible-paramount-reckoning-2023-07-05/ on URL https://news.google.com/rss/articles/CBMiWGh0dHBzOi8vd3d3LnJldXRlcnMuY29tL2JyZWFraW5ndmlld3MvbWlzc2lvbi1pbXBvc3NpYmxlLXBhcmFtb3VudC1yZWNrb25pbmctMjAyMy0wNy0wNS_SAQA?oc=5&hl=en-CA&gl=CA&ceid=CA:en\n",
      "An error occurred while fetching the article: Article `download()` failed with ('Connection aborted.', RemoteDisconnected('Remote end closed connection without response')) on URL https://news.google.com/rss/articles/CBMiX2h0dHBzOi8vY29sbGlkZXIuY29tL2NhcnktZWx3ZXMtbWlzc2lvbi1pbXBvc3NpYmxlLWRlYWQtcmVja29uaW5nLXJlYmVsLW1vb24ta251Y2tsZXMtY29tbWVudHMv0gEA?oc=5&hl=en-CA&gl=CA&ceid=CA:en\n",
      "An error occurred while fetching the article: Article `download()` failed with ('Connection aborted.', RemoteDisconnected('Remote end closed connection without response')) on URL https://news.google.com/rss/articles/CBMiUmh0dHBzOi8vc2NyZWVucmFudC5jb20vbWlzc2lvbi1pbXBvc3NpYmxlLTctaGF5bGV5LWF0d2VsbC10b20tY3J1aXNlLXJlbGF0aW9uc2hpcC_SAQA?oc=5&hl=en-CA&gl=CA&ceid=CA:en\n",
      "An error occurred while fetching the article: Article `download()` failed with ('Connection aborted.', RemoteDisconnected('Remote end closed connection without response')) on URL https://news.google.com/rss/articles/CBMiR2h0dHBzOi8vY29sbGlkZXIuY29tL21pc3Npb24taW1wb3NzaWJsZS0yLWRvdWdyYXktc2NvdHQtd29sdmVyaW5lLXhtZW4v0gEA?oc=5&hl=en-CA&gl=CA&ceid=CA:en\n",
      "An error occurred while fetching the article: Article `download()` failed with ('Connection aborted.', RemoteDisconnected('Remote end closed connection without response')) on URL https://news.google.com/rss/articles/CBMiQWh0dHBzOi8vY29sbGlkZXIuY29tL21pc3Npb24taW1wb3NzaWJsZS1mZW1hbGUtY2hhcmFjdGVycy1yYW5rZWQv0gEA?oc=5&hl=en-CA&gl=CA&ceid=CA:en\n",
      "An error occurred while fetching the article: Article `download()` failed with ('Connection aborted.', RemoteDisconnected('Remote end closed connection without response')) on URL https://news.google.com/rss/articles/CBMiTWh0dHBzOi8vY29sbGlkZXIuY29tL21pc3Npb24taW1wb3NzaWJsZS1iZXN0LWNoYXJhY3Rlci1pbHNhLXJlYmVjY2EtZmVyZ3Vzb24v0gEA?oc=5&hl=en-CA&gl=CA&ceid=CA:en\n",
      "An error occurred while fetching the article: Article `download()` failed with 403 Client Error: Max restarts limit reached for url: https://www.forbes.com/sites/scottphillips/2023/07/05/film-review-tom-cruise-delivers-big-action-with-mission-impossible--dead-reckoning-part-1/ on URL https://news.google.com/rss/articles/CBMikAFodHRwczovL3d3dy5mb3JiZXMuY29tL3NpdGVzL3Njb3R0cGhpbGxpcHMvMjAyMy8wNy8wNS9maWxtLXJldmlldy10b20tY3J1aXNlLWRlbGl2ZXJzLWJpZy1hY3Rpb24td2l0aC1taXNzaW9uLWltcG9zc2libGUtLWRlYWQtcmVja29uaW5nLXBhcnQtMS_SAZQBaHR0cHM6Ly93d3cuZm9yYmVzLmNvbS9zaXRlcy9zY290dHBoaWxsaXBzLzIwMjMvMDcvMDUvZmlsbS1yZXZpZXctdG9tLWNydWlzZS1kZWxpdmVycy1iaWctYWN0aW9uLXdpdGgtbWlzc2lvbi1pbXBvc3NpYmxlLS1kZWFkLXJlY2tvbmluZy1wYXJ0LTEvYW1wLw?oc=5&hl=en-CA&gl=CA&ceid=CA:en\n",
      "An error occurred while fetching the article: Article `download()` failed with ('Connection aborted.', RemoteDisconnected('Remote end closed connection without response')) on URL https://news.google.com/rss/articles/CBMiSWh0dHBzOi8vc2NyZWVucmFudC5jb20vbWlzc2lvbi1pbXBvc3NpYmxlLTgtZGVhZC1yZWNrb25pbmctZW5kaW5nLXVwZGF0ZS_SAQA?oc=5&hl=en-CA&gl=CA&ceid=CA:en\n",
      "An error occurred while fetching the article: Article `download()` failed with ('Connection aborted.', RemoteDisconnected('Remote end closed connection without response')) on URL https://news.google.com/rss/articles/CBMiRWh0dHBzOi8vd3d3LmNici5jb20vbWlzc2lvbi1pbXBvc3NpYmxlLTctc3BsaXQtaW50by10d28tcGFydHMtcmVhc29uL9IBAA?oc=5&hl=en-CA&gl=CA&ceid=CA:en\n",
      "An error occurred while fetching the article: Article `download()` failed with ('Connection aborted.', RemoteDisconnected('Remote end closed connection without response')) on URL https://news.google.com/rss/articles/CBMiTWh0dHBzOi8vc2NyZWVucmFudC5jb20vbWlzc2lvbi1pbXBvc3NpYmxlLWFuZHJlYXMtd2lzbmlld3NraS1jYW1lby1mb3Jnb3R0ZW4v0gEA?oc=5&hl=en-CA&gl=CA&ceid=CA:en\n",
      "An error occurred while fetching the article: Article `download()` failed with ('Connection aborted.', RemoteDisconnected('Remote end closed connection without response')) on URL https://news.google.com/rss/articles/CBMiUmh0dHBzOi8vc2NyZWVucmFudC5jb20vaG93LW1hbnktcGVvcGxlLWV0aGFuLWh1bnQta2lsbHMtbWlzc2lvbi1pbXBvc3NpYmxlLW1vdmllcy_SAQA?oc=5&hl=en-CA&gl=CA&ceid=CA:en\n",
      "An error occurred while fetching the article: Article `download()` failed with ('Connection aborted.', RemoteDisconnected('Remote end closed connection without response')) on URL https://news.google.com/rss/articles/CBMiWWh0dHBzOi8vc2NyZWVucmFudC5jb20vbWlzc2lvbi1pbXBvc3NpYmxlLWRlYWQtcmVja29uaW5nLWhheWxleS1hdHdlbGwtdG9tLWNydWlzZS1zdHVudHMv0gEA?oc=5&hl=en-CA&gl=CA&ceid=CA:en\n",
      "An error occurred while fetching the article: Article `download()` failed with ('Connection aborted.', RemoteDisconnected('Remote end closed connection without response')) on URL https://news.google.com/rss/articles/CBMiV2h0dHBzOi8vc2NyZWVucmFudC5jb20vbWlzc2lvbi1pbXBvc3NpYmxlLTctYm94LW9mZmljZS1mcmFuY2hpc2UtY29tcGFyaXNvbi1wcm9qZWN0aW9uL9IBAA?oc=5&hl=en-CA&gl=CA&ceid=CA:en\n",
      "An error occurred while fetching the article: Article `download()` failed with ('Connection aborted.', RemoteDisconnected('Remote end closed connection without response')) on URL https://news.google.com/rss/articles/CBMiQmh0dHBzOi8vc2NyZWVucmFudC5jb20vbWlzc2lvbi1pbXBvc3NpYmxlLTctdG9tLWNydWlzZS1zdHVudHMtaG93L9IBAA?oc=5&hl=en-CA&gl=CA&ceid=CA:en\n",
      "An error occurred while fetching the article: Article `download()` failed with ('Connection aborted.', RemoteDisconnected('Remote end closed connection without response')) on URL https://news.google.com/rss/articles/CBMiRmh0dHBzOi8vZ2FtZXJhbnQuY29tL21pc3Npb24taW1wb3NzaWJsZS03LWZyYW5jaGlzZS1mdXR1cmUtZmFuLWNob2ljZS_SAQA?oc=5&hl=en-CA&gl=CA&ceid=CA:en\n",
      "An error occurred while fetching the article: Article `download()` failed with ('Connection aborted.', RemoteDisconnected('Remote end closed connection without response')) on URL https://news.google.com/rss/articles/CBMiVWh0dHBzOi8vY29sbGlkZXIuY29tL3RvbS1jcnVpc2UtaW50ZXJ2aWV3LW1pc3Npb24taW1wb3NzaWJsZS1kZWFkLXJlY2tvbmluZy1wYXJ0LW9uZS_SAQA?oc=5&hl=en-CA&gl=CA&ceid=CA:en\n",
      "An error occurred while fetching the article: Article `download()` failed with ('Connection aborted.', RemoteDisconnected('Remote end closed connection without response')) on URL https://news.google.com/rss/articles/CBMiVGh0dHBzOi8vd3d3LnRoZWdhbWVyLmNvbS9taXNzaW9uLWltcG9zc2libGUtZGVhZC1yZWNrb25pbmctcGFydC1vbmUtYm94LW9mZmljZS1sZWdzL9IBAA?oc=5&hl=en-CA&gl=CA&ceid=CA:en\n",
      "An error occurred while fetching the article: Article `download()` failed with ('Connection aborted.', RemoteDisconnected('Remote end closed connection without response')) on URL https://news.google.com/rss/articles/CBMiS2h0dHBzOi8vc2NyZWVucmFudC5jb20vbWlzc2lvbi1pbXBvc3NpYmxlLTctaW1mLWRhcmstdHJ1dGgtZXRoYW4taHVudC1saWZlL9IBAA?oc=5&hl=en-CA&gl=CA&ceid=CA:en\n",
      "An error occurred while fetching the article: Article `download()` failed with ('Connection aborted.', RemoteDisconnected('Remote end closed connection without response')) on URL https://news.google.com/rss/articles/CBMiMWh0dHBzOi8vY29sbGlkZXIuY29tL21pc3Npb24taW1wb3NzaWJsZS12aWxsYWlucy_SAQA?oc=5&hl=en-CA&gl=CA&ceid=CA:en\n"
     ]
    },
    {
     "name": "stdout",
     "output_type": "stream",
     "text": [
      "An error occurred while fetching the article: Article `download()` failed with ('Connection aborted.', RemoteDisconnected('Remote end closed connection without response')) on URL https://news.google.com/rss/articles/CBMiV2h0dHBzOi8vc2NyZWVucmFudC5jb20vbWlzc2lvbi1pbXBvc3NpYmxlLTctZXRoYW4tYnJpZ2dzLXJlbGF0aW9uc2hpcC1iYWNrc3RvcnktZnV0dXJlL9IBAA?oc=5&hl=en-CA&gl=CA&ceid=CA:en\n",
      "An error occurred while fetching the article: Article `download()` failed with ('Connection aborted.', RemoteDisconnected('Remote end closed connection without response')) on URL https://news.google.com/rss/articles/CBMiTWh0dHBzOi8vd3d3LmNici5jb20vbWlzc2lvbi1pbXBvc3NpYmxlLXRvcHMtamFtZXMtYm9uZC1oaXRjaGNvY2staW5zcGlyYXRpb24v0gEA?oc=5&hl=en-CA&gl=CA&ceid=CA:en\n",
      "An error occurred while fetching the article: Article `download()` failed with ('Connection aborted.', RemoteDisconnected('Remote end closed connection without response')) on URL https://news.google.com/rss/articles/CBMiUGh0dHBzOi8vc2NyZWVucmFudC5jb20vdG9tLWNydWlzZXMtcm90dGVuLXRvbWF0b2VzLWF2ZXJhZ2UtbWlzc2lvbi1pbXBvc3NpYmxlLTcv0gEA?oc=5&hl=en-CA&gl=CA&ceid=CA:en\n",
      "An error occurred while fetching the article: Article `download()` failed with ('Connection aborted.', RemoteDisconnected('Remote end closed connection without response')) on URL https://news.google.com/rss/articles/CBMiQmh0dHBzOi8vc2NyZWVucmFudC5jb20vdG9tLWNydWlzZS1taXNzaW9uLWltcG9zc2libGUtMi03NS1taWxsaW9uL9IBAA?oc=5&hl=en-CA&gl=CA&ceid=CA:en\n",
      "An error occurred while fetching the article: Article `download()` failed with ('Connection aborted.', RemoteDisconnected('Remote end closed connection without response')) on URL https://news.google.com/rss/articles/CBMiOWh0dHBzOi8vbW92aWV3ZWIuY29tL2Jlc3QtbWlzc2lvbi1pbXBvc3NpYmxlLXR2LWVwaXNvZGVzL9IBAA?oc=5&hl=en-CA&gl=CA&ceid=CA:en\n",
      "An error occurred while fetching the article: Article `download()` failed with ('Connection aborted.', RemoteDisconnected('Remote end closed connection without response')) on URL https://news.google.com/rss/articles/CBMiV2h0dHBzOi8vZ2FtZXJhbnQuY29tL21pc3Npb24taW1wb3NzaWJsZS1nYW1lcy1yZXR1cm4tcmV2aXZhbC1tb3ZpZS1zdWNjZXNzLWdvb2QtdGltaW5nL9IBAA?oc=5&hl=en-CA&gl=CA&ceid=CA:en\n"
     ]
    },
    {
     "name": "stderr",
     "output_type": "stream",
     "text": [
      "12/10/2023 05:05:05 PM - newspaper ignoring lxml node error: Input object is not an XML element: HtmlProcessingInstruction\n"
     ]
    },
    {
     "name": "stdout",
     "output_type": "stream",
     "text": [
      "An error occurred while fetching the article: Article `download()` failed with ('Connection aborted.', RemoteDisconnected('Remote end closed connection without response')) on URL https://news.google.com/rss/articles/CBMiYmh0dHBzOi8vd3d3LnRoZXRoaW5ncy5jb20vc3RldmVuLXNwaWVsYmVyZy1yZXZlYWxlZC10b20tY3J1aXNlLXRvb2stY2FsbHMtZnJvbS1oaXMta2lkcy1taWQtc2NlbmUv0gEA?oc=5&hl=en-CA&gl=CA&ceid=CA:en\n",
      "An error occurred while fetching the article: Article `download()` failed with ('Connection aborted.', RemoteDisconnected('Remote end closed connection without response')) on URL https://news.google.com/rss/articles/CBMiSWh0dHBzOi8vc2NyZWVucmFudC5jb20vbWlzc2lvbi1pbXBvc3NpYmxlLTctdG9tLWNydWlzZS1oYWlyLXdpZy1yZXNob290cy_SAQA?oc=5&hl=en-CA&gl=CA&ceid=CA:en\n",
      "671 Articles with full text\n",
      "categorizing\n",
      "671 Articles categorized\n"
     ]
    }
   ],
   "source": [
    "mia = [\"Tom Cruise\",\"Hayley Atwell\"]\n",
    "mid = [\"Christopher McQuarrie\"]\n",
    "mir = datetime(2023, 7, 12)\n",
    "migi = 567500000\n",
    "miq = '(\"Mission: Impossible 7\" OR \"Mission: Impossible – Dead Reckoning Part One\" \"Mission Impossible\") AND (\"Dead Reckoning\" OR \"Tom Cruise\" OR \"Christopher McQuarrie\")'\n",
    "mi_movie = Movie('Mission: Impossible',mia,mid,mir,migi,miq)\n",
    "mi_movie.get_df()"
   ]
  },
  {
   "cell_type": "code",
   "execution_count": 75,
   "metadata": {},
   "outputs": [
    {
     "name": "stdout",
     "output_type": "stream",
     "text": [
      "fetching articles\n",
      "Killers of the Flower Moon: 96 Articles found\n",
      "Killers of the Flower Moon: 93 Articles found\n",
      "Leonardo Dicaprio: 100 Articles found\n",
      "Leonardo Dicaprio: 98 Articles found\n",
      "Lily Gladstone: 97 Articles found\n",
      "Lily Gladstone: 97 Articles found\n",
      "Martin Scorsese: 98 Articles found\n",
      "Martin Scorsese: 96 Articles found\n",
      "692 Articles found\n",
      "getting text\n",
      "An error occurred while fetching the article: Article `download()` failed with ('Connection aborted.', RemoteDisconnected('Remote end closed connection without response')) on URL https://news.google.com/rss/articles/CBMiXGh0dHBzOi8vc2NyZWVucmFudC5jb20va2lsbGVycy1mbG93ZXItbW9vbi1tYXJ0aW4tc2NvcnNlc2UtY2FzdGluZy1oYWJpdHMtbGVvbmFyZG8tZGljYXByaW8v0gEA?oc=5&hl=en-CA&gl=CA&ceid=CA:en\n",
      "An error occurred while fetching the article: Article `download()` failed with ('Connection aborted.', RemoteDisconnected('Remote end closed connection without response')) on URL https://news.google.com/rss/articles/CBMiXGh0dHBzOi8vd3d3LmNici5jb20va2lsbGVycy1vZi10aGUtZmxvd2VyLW1vb24tZnJhbmNpcy1mb3JkLWNvcHBvbGEtc2NvcnNlc2UtYmVzdC1maWxtbWFrZXIv0gEA?oc=5&hl=en-CA&gl=CA&ceid=CA:en\n",
      "An error occurred while fetching the article: Article `download()` failed with 403 Client Error: Forbidden for url: https://www.newsweek.com/killers-flower-moon-casting-1835977 on URL https://news.google.com/rss/articles/CBMiPGh0dHBzOi8vd3d3Lm5ld3N3ZWVrLmNvbS9raWxsZXJzLWZsb3dlci1tb29uLWNhc3RpbmctMTgzNTk3N9IBAA?oc=5&hl=en-CA&gl=CA&ceid=CA:en\n",
      "An error occurred while fetching the article: Article `download()` failed with ('Connection aborted.', RemoteDisconnected('Remote end closed connection without response')) on URL https://news.google.com/rss/articles/CBMiT2h0dHBzOi8vc2NyZWVucmFudC5jb20va2lsbGVycy1mbG93ZXItbW9vbi1yb2JlcnQtZGUtbmlyby1wZXJmb3JtYW5jZS1yZXNwb25zZS_SAQA?oc=5&hl=en-CA&gl=CA&ceid=CA:en\n"
     ]
    },
    {
     "name": "stderr",
     "output_type": "stream",
     "text": [
      "/Users/yiannizavaliagkos/opt/anaconda3/lib/python3.8/site-packages/dateutil/parser/_parser.py:1213: UnknownTimezoneWarning: tzname PDT identified but not understood.  Pass `tzinfos` argument in order to correctly return a timezone-aware datetime.  In a future version, this will raise an exception.\n",
      "  warnings.warn(\"tzname {tzname} identified but not understood.  \"\n"
     ]
    },
    {
     "name": "stdout",
     "output_type": "stream",
     "text": [
      "An error occurred while fetching the article: Article `download()` failed with ('Connection aborted.', RemoteDisconnected('Remote end closed connection without response')) on URL https://news.google.com/rss/articles/CBMiT2h0dHBzOi8vc2NyZWVucmFudC5jb20vbWFydGluLXNjb3JzZXNlLW1vdmllcy13YXRjaC1iZWZvcmUta2lsbGVycy1mbG93ZXItbW9vbi_SAQA?oc=5&hl=en-CA&gl=CA&ceid=CA:en\n",
      "An error occurred while fetching the article: Article `download()` failed with 403 Client Error: 403 for url: https://www.lakenewsonline.com/stories/osage-indian-history-coming-to-the-lake-in-free-movie-debut,55614 on URL https://news.google.com/rss/articles/CBMiaGh0dHBzOi8vd3d3Lmxha2VuZXdzb25saW5lLmNvbS9zdG9yaWVzL29zYWdlLWluZGlhbi1oaXN0b3J5LWNvbWluZy10by10aGUtbGFrZS1pbi1mcmVlLW1vdmllLWRlYnV0LDU1NjE00gEA?oc=5&hl=en-CA&gl=CA&ceid=CA:en\n",
      "An error occurred while fetching the article: Article `download()` failed with 403 Client Error: Forbidden for url: https://www.cnews.fr/culture/2023-09-25/killers-flower-moon-vu-le-film-de-martin-scorsese-avec-leonardo-dicaprio-et-voici on URL https://news.google.com/rss/articles/CBMieWh0dHBzOi8vd3d3LmNuZXdzLmZyL2N1bHR1cmUvMjAyMy0wOS0yNS9raWxsZXJzLWZsb3dlci1tb29uLXZ1LWxlLWZpbG0tZGUtbWFydGluLXNjb3JzZXNlLWF2ZWMtbGVvbmFyZG8tZGljYXByaW8tZXQtdm9pY2nSAX1odHRwczovL3d3dy5jbmV3cy5mci9jdWx0dXJlLzIwMjMtMDktMjUva2lsbGVycy1mbG93ZXItbW9vbi12dS1sZS1maWxtLWRlLW1hcnRpbi1zY29yc2VzZS1hdmVjLWxlb25hcmRvLWRpY2FwcmlvLWV0LXZvaWNpP2FtcA?oc=5&hl=en-CA&gl=CA&ceid=CA:en\n",
      "An error occurred while fetching the article: Article `download()` failed with 403 Client Error: Forbidden for url: https://www.wsj.com/us-news/education/killers-of-the-flower-moon-oklahoma-1cfdba38 on URL https://news.google.com/rss/articles/CBMiUmh0dHBzOi8vd3d3Lndzai5jb20vdXMtbmV3cy9lZHVjYXRpb24va2lsbGVycy1vZi10aGUtZmxvd2VyLW1vb24tb2tsYWhvbWEtMWNmZGJhMzjSAQA?oc=5&hl=en-CA&gl=CA&ceid=CA:en\n",
      "692 Articles with full text\n",
      "categorizing\n",
      "692 Articles categorized\n"
     ]
    }
   ],
   "source": [
    "kfma = [\"Leonardo Dicaprio\",\"Lily Gladstone\"]\n",
    "kfmd = [\"Martin Scorsese\"]\n",
    "kfmr = datetime(2023, 10, 20)\n",
    "kfmgi = 567500000\n",
    "kfmq = ''\n",
    "kfm_movie = Movie('Killers of the Flower Moon',kfma,kfmd,kfmr,kfmgi,kfmq)\n",
    "kfm_movie.get_df()"
   ]
  },
  {
   "cell_type": "code",
   "execution_count": 77,
   "metadata": {},
   "outputs": [
    {
     "name": "stdout",
     "output_type": "stream",
     "text": [
      "fetching articles\n",
      "My Big Fat Greek Wedding 3: 97 Articles found\n",
      "My Big Fat Greek Wedding 3: 99 Articles found\n",
      "Nia Vardalos: 99 Articles found\n",
      "Nia Vardalos: 100 Articles found\n",
      "Elena Kampouris: 92 Articles found\n",
      "Elena Kampouris: 35 Articles found\n",
      "Nia Vardalos: 99 Articles found\n",
      "Nia Vardalos: 100 Articles found\n",
      "467 Articles found\n",
      "getting text\n",
      "An error occurred while fetching the article: Article `download()` failed with 403 Client Error: Forbidden for url: https://greekcitytimes.com/2023/09/29/varypatades-the-village-in-my-big-fat-greek-wedding-3/ on URL https://news.google.com/rss/articles/CBMiXGh0dHBzOi8vZ3JlZWtjaXR5dGltZXMuY29tLzIwMjMvMDkvMjkvdmFyeXBhdGFkZXMtdGhlLXZpbGxhZ2UtaW4tbXktYmlnLWZhdC1ncmVlay13ZWRkaW5nLTMv0gFgaHR0cHM6Ly9ncmVla2NpdHl0aW1lcy5jb20vMjAyMy8wOS8yOS92YXJ5cGF0YWRlcy10aGUtdmlsbGFnZS1pbi1teS1iaWctZmF0LWdyZWVrLXdlZGRpbmctMy8_YW1w?oc=5&hl=en-CA&gl=CA&ceid=CA:en\n",
      "An error occurred while fetching the article: Article `download()` failed with ('Connection aborted.', RemoteDisconnected('Remote end closed connection without response')) on URL https://news.google.com/rss/articles/CBMiOmh0dHBzOi8vY29sbGlkZXIuY29tL21vdmllcy1saWtlLW15LWJpZy1mYXQtZ3JlZWstd2VkZGluZy_SAQA?oc=5&hl=en-CA&gl=CA&ceid=CA:en\n",
      "An error occurred while fetching the article: Article `download()` failed with 403 Client Error: Forbidden for url: https://greekcitytimes.com/2023/09/24/its-nia-vardalos-61-birthday/ on URL https://news.google.com/rss/articles/CBMiQ2h0dHBzOi8vZ3JlZWtjaXR5dGltZXMuY29tLzIwMjMvMDkvMjQvaXRzLW5pYS12YXJkYWxvcy02MS1iaXJ0aGRheS_SAUdodHRwczovL2dyZWVrY2l0eXRpbWVzLmNvbS8yMDIzLzA5LzI0L2l0cy1uaWEtdmFyZGFsb3MtNjEtYmlydGhkYXkvP2FtcA?oc=5&hl=en-CA&gl=CA&ceid=CA:en\n",
      "An error occurred while fetching the article: Article `download()` failed with ('Connection aborted.', RemoteDisconnected('Remote end closed connection without response')) on URL https://news.google.com/rss/articles/CBMiM2h0dHBzOi8vc2NyZWVucmFudC5jb20vYmVzdC1yb21hbmNlLW1vdmllcy1oYm8tbWF4L9IBAA?oc=5&hl=en-CA&gl=CA&ceid=CA:en\n",
      "An error occurred while fetching the article: Article `download()` failed with 403 Client Error: Forbidden for url: https://greekcitytimes.com/2023/09/25/september-25-1849-nikitas-2/ on URL https://news.google.com/rss/articles/CBMiQmh0dHBzOi8vZ3JlZWtjaXR5dGltZXMuY29tLzIwMjMvMDkvMjUvc2VwdGVtYmVyLTI1LTE4NDktbmlraXRhcy0yL9IBRmh0dHBzOi8vZ3JlZWtjaXR5dGltZXMuY29tLzIwMjMvMDkvMjUvc2VwdGVtYmVyLTI1LTE4NDktbmlraXRhcy0yLz9hbXA?oc=5&hl=en-CA&gl=CA&ceid=CA:en\n",
      "An error occurred while fetching the article: Article `download()` failed with ('Connection aborted.', RemoteDisconnected('Remote end closed connection without response')) on URL https://news.google.com/rss/articles/CBMiQWh0dHBzOi8vc2NyZWVucmFudC5jb20vYmFyYmllLW1vdmllLWJveC1vZmZpY2UtcmVjb3JkLXRvcC01LXNwb3Qv0gEA?oc=5&hl=en-CA&gl=CA&ceid=CA:en\n",
      "An error occurred while fetching the article: Article `download()` failed with 403 Client Error: Forbidden for url: https://www.abc.net.au/everyday/which-school-holidays-movie-is-better-for-adults/102880740 on URL https://news.google.com/rss/articles/CBMiWmh0dHBzOi8vd3d3LmFiYy5uZXQuYXUvZXZlcnlkYXkvd2hpY2gtc2Nob29sLWhvbGlkYXlzLW1vdmllLWlzLWJldHRlci1mb3ItYWR1bHRzLzEwMjg4MDc0MNIBMWh0dHBzOi8vYW1wLmFiYy5uZXQuYXUvYXJ0aWNsZS9ldmVyeWRheS8xMDI4ODA3NDA?oc=5&hl=en-CA&gl=CA&ceid=CA:en\n",
      "An error occurred while fetching the article: Article `download()` failed with 403 Client Error: Forbidden for url: https://www.tapinto.net/towns/sparta/articles/now-showing-at-box-office-cinemas-at-sparta-theater-center-87d306b9-c12b-44d3-bbcc-bdb269e244d0 on URL https://news.google.com/rss/articles/CBMijQFodHRwczovL3d3dy50YXBpbnRvLm5ldC90b3ducy9zcGFydGEvYXJ0aWNsZXMvbm93LXNob3dpbmctYXQtYm94LW9mZmljZS1jaW5lbWFzLWF0LXNwYXJ0YS10aGVhdGVyLWNlbnRlci04N2QzMDZiOS1jMTJiLTQ0ZDMtYmJjYy1iZGIyNjllMjQ0ZDDSAQA?oc=5&hl=en-CA&gl=CA&ceid=CA:en\n",
      "An error occurred while fetching the article: Article `download()` failed with HTTPSConnectionPool(host='www.seattletimes.com', port=443): Read timed out. (read timeout=7) on URL https://news.google.com/rss/articles/CBMidWh0dHBzOi8vd3d3LnNlYXR0bGV0aW1lcy5jb20vZW50ZXJ0YWlubWVudC9tb3ZpZXMvZHVtYi1tb25leS1yZXZpZXctYS1kYXZpZC12cy1nb2xpYXRoLXRhbGUtZm9yLXRoZS1zb2NpYWwtbWVkaWEtYWdlL9IBAA?oc=5&hl=en-CA&gl=CA&ceid=CA:en\n",
      "An error occurred while fetching the article: Article `download()` failed with ('Connection aborted.', RemoteDisconnected('Remote end closed connection without response')) on URL https://news.google.com/rss/articles/CBMiOWh0dHBzOi8vbW92aWV3ZWIuY29tL2NvbWVkeS1tb3ZpZXMtd2l0aC1tdWx0aXBsZS1zZXF1ZWxzL9IBAA?oc=5&hl=en-CA&gl=CA&ceid=CA:en\n",
      "An error occurred while fetching the article: Article `download()` failed with 403 Client Error: Forbidden for url: https://greekcitytimes.com/2023/09/29/84700-armenians-flee-azerbaijani/ on URL https://news.google.com/rss/articles/CBMiR2h0dHBzOi8vZ3JlZWtjaXR5dGltZXMuY29tLzIwMjMvMDkvMjkvODQ3MDAtYXJtZW5pYW5zLWZsZWUtYXplcmJhaWphbmkv0gFLaHR0cHM6Ly9ncmVla2NpdHl0aW1lcy5jb20vMjAyMy8wOS8yOS84NDcwMC1hcm1lbmlhbnMtZmxlZS1hemVyYmFpamFuaS8_YW1w?oc=5&hl=en-CA&gl=CA&ceid=CA:en\n",
      "An error occurred while fetching the article: Article `download()` failed with 403 Client Error: Forbidden for url: https://greekcitytimes.com/2023/10/06/draft-law-on-tax-evasion-what-to-expect-in-parliament-this-october/ on URL https://news.google.com/rss/articles/CBMiaWh0dHBzOi8vZ3JlZWtjaXR5dGltZXMuY29tLzIwMjMvMTAvMDYvZHJhZnQtbGF3LW9uLXRheC1ldmFzaW9uLXdoYXQtdG8tZXhwZWN0LWluLXBhcmxpYW1lbnQtdGhpcy1vY3RvYmVyL9IBbWh0dHBzOi8vZ3JlZWtjaXR5dGltZXMuY29tLzIwMjMvMTAvMDYvZHJhZnQtbGF3LW9uLXRheC1ldmFzaW9uLXdoYXQtdG8tZXhwZWN0LWluLXBhcmxpYW1lbnQtdGhpcy1vY3RvYmVyLz9hbXA?oc=5&hl=en-CA&gl=CA&ceid=CA:en\n",
      "An error occurred while fetching the article: Article `download()` failed with ('Connection aborted.', RemoteDisconnected('Remote end closed connection without response')) on URL https://news.google.com/rss/articles/CBMiT2h0dHBzOi8vbW92aWV3ZWIuY29tL3ZpbmRpY3RhLWNsaXAtZWxlbmEta2FtcG91cmlzLWplcmVteS1waXZlbi1zZXJpYWwta2lsbGVycy_SAQA?oc=5&hl=en-CA&gl=CA&ceid=CA:en\n",
      "An error occurred while fetching the article: Article `download()` failed with 403 Client Error: Forbidden for url: https://www.newsweek.com/2023/09/29/survivors-jeff-probst-reveals-key-winning-heart-1828299.html on URL https://news.google.com/rss/articles/CBMiYGh0dHBzOi8vd3d3Lm5ld3N3ZWVrLmNvbS8yMDIzLzA5LzI5L3N1cnZpdm9ycy1qZWZmLXByb2JzdC1yZXZlYWxzLWtleS13aW5uaW5nLWhlYXJ0LTE4MjgyOTkuaHRtbNIBAA?oc=5&hl=en-CA&gl=CA&ceid=CA:en\n",
      "An error occurred while fetching the article: Article `download()` failed with ('Connection aborted.', RemoteDisconnected('Remote end closed connection without response')) on URL https://news.google.com/rss/articles/CBMiSWh0dHBzOi8vc2NyZWVucmFudC5jb20vbXktYmlnLWZhdC1ncmVlay13ZWRkaW5nLTMtc3RyZWFtaW5nLXJlbGVhc2UtZGF0ZS_SAQA?oc=5&hl=en-CA&gl=CA&ceid=CA:en\n",
      "An error occurred while fetching the article: Article `download()` failed with 403 Client Error: Forbidden for url: https://exclaim.ca/film/article/heres_everything_coming_to_prime_video_in_november_2023 on URL https://news.google.com/rss/articles/CBMiV2h0dHBzOi8vZXhjbGFpbS5jYS9maWxtL2FydGljbGUvaGVyZXNfZXZlcnl0aGluZ19jb21pbmdfdG9fcHJpbWVfdmlkZW9faW5fbm92ZW1iZXJfMjAyM9IBVWh0dHBzOi8vZXhjbGFpbS5jYS9hbXBhcnRpY2xlL2hlcmVzX2V2ZXJ5dGhpbmdfY29taW5nX3RvX3ByaW1lX3ZpZGVvX2luX25vdmVtYmVyXzIwMjM?oc=5&hl=en-CA&gl=CA&ceid=CA:en\n",
      "An error occurred while fetching the article: Article `download()` failed with ('Connection aborted.', RemoteDisconnected('Remote end closed connection without response')) on URL https://news.google.com/rss/articles/CBMiOmh0dHBzOi8vd3d3LmNici5jb20vY2h1Y2t5LXNlYXNvbi0zLWRvbi1tYW5jaW5pLWludGVydmlldy_SAQA?oc=5&hl=en-CA&gl=CA&ceid=CA:en\n",
      "An error occurred while fetching the article: Article `download()` failed with 403 Client Error: Forbidden for url: https://greekcitytimes.com/2023/10/12/greek-frigate-psara-joins-nato/ on URL https://news.google.com/rss/articles/CBMiRWh0dHBzOi8vZ3JlZWtjaXR5dGltZXMuY29tLzIwMjMvMTAvMTIvZ3JlZWstZnJpZ2F0ZS1wc2FyYS1qb2lucy1uYXRvL9IBSWh0dHBzOi8vZ3JlZWtjaXR5dGltZXMuY29tLzIwMjMvMTAvMTIvZ3JlZWstZnJpZ2F0ZS1wc2FyYS1qb2lucy1uYXRvLz9hbXA?oc=5&hl=en-CA&gl=CA&ceid=CA:en\n",
      "467 Articles with full text\n",
      "categorizing\n",
      "467 Articles categorized\n"
     ]
    }
   ],
   "source": [
    "bfgwa = [\"Nia Vardalos\",\"Elena Kampouris\"]\n",
    "bfgwd = [\"Nia Vardalos\"]\n",
    "bfgwr = datetime(2023, 10, 20)\n",
    "bfgwgi = 38000000\n",
    "bfgw_movie = Movie('My Big Fat Greek Wedding 3',bfgwa,bfgwd,bfgwr,bfgwgi,'')\n",
    "bfgw_movie.get_df()"
   ]
  },
  {
   "cell_type": "code",
   "execution_count": 80,
   "metadata": {},
   "outputs": [
    {
     "name": "stdout",
     "output_type": "stream",
     "text": [
      "fetching articles\n",
      "Cocaine Bear: 93 Articles found\n",
      "Cocaine Bear: 94 Articles found\n",
      "Ray Liotta: 94 Articles found\n",
      "Ray Liotta: 100 Articles found\n",
      "Keri Russell: 97 Articles found\n",
      "Keri Russell: 98 Articles found\n",
      "Elizabeth Banks: 96 Articles found\n",
      "Elizabeth Banks: 98 Articles found\n",
      "617 Articles found\n",
      "getting text\n",
      "An error occurred while fetching the article: Article `download()` failed with HTTPSConnectionPool(host='www.seattletimes.com', port=443): Read timed out. (read timeout=7) on URL https://news.google.com/rss/articles/CBMiZGh0dHBzOi8vd3d3LnNlYXR0bGV0aW1lcy5jb20vZW50ZXJ0YWlubWVudC9jb2NhaW5lLWJlYXItaXMtaGVyZS10by1zdHJpa2UtYS1ibG93LXRvLXN0YWlkLWhvbGx5d29vZC_SAQA?oc=5&hl=en-CA&gl=CA&ceid=CA:en\n",
      "An error occurred while fetching the article: Article `download()` failed with ('Connection aborted.', RemoteDisconnected('Remote end closed connection without response')) on URL https://news.google.com/rss/articles/CBMiPWh0dHBzOi8vc2NyZWVucmFudC5jb20vY29jYWluZS1iZWFyLXNlcXVlbC1zaGFyay13b3JrLXJlYXNvbi_SAQA?oc=5&hl=en-CA&gl=CA&ceid=CA:en\n",
      "An error occurred while fetching the article: Article `download()` failed with HTTPSConnectionPool(host='www.digitalspy.com', port=443): Read timed out. (read timeout=7) on URL https://news.google.com/rss/articles/CBMiU2h0dHBzOi8vd3d3LmRpZ2l0YWxzcHkuY29tL21vdmllcy9hNDI5OTU4NzMva2VyaS1ydXNzZWxsLW1hdHRoZXctcmh5cy1jb2NhaW5lLWJlYXIv0gEA?oc=5&hl=en-CA&gl=CA&ceid=CA:en\n",
      "An error occurred while fetching the article: Article `download()` failed with 403 Client Error: Forbidden for url: https://www.scotsman.com/arts-and-culture/film-and-tv/cocaine-bear-the-real-cocaine-bear-story-is-cocaine-bear-a-true-story-cocaine-bear-rating-cast-and-runtime-4028527 on URL https://news.google.com/rss/articles/CBMiqAFodHRwczovL3d3dy5zY290c21hbi5jb20vYXJ0cy1hbmQtY3VsdHVyZS9maWxtLWFuZC10di9jb2NhaW5lLWJlYXItdGhlLXJlYWwtY29jYWluZS1iZWFyLXN0b3J5LWlzLWNvY2FpbmUtYmVhci1hLXRydWUtc3RvcnktY29jYWluZS1iZWFyLXJhdGluZy1jYXN0LWFuZC1ydW50aW1lLTQwMjg1MjfSAQA?oc=5&hl=en-CA&gl=CA&ceid=CA:en\n",
      "An error occurred while fetching the article: Article `download()` failed with ('Connection aborted.', RemoteDisconnected('Remote end closed connection without response')) on URL https://news.google.com/rss/articles/CBMiRWh0dHBzOi8vc2NyZWVucmFudC5jb20vY29jYWluZS1iZWFyLWFjdG9yLXN0YXItd2Fycy1hbGRlbi1laHJlbnJlaWNoL9IBAA?oc=5&hl=en-CA&gl=CA&ceid=CA:en\n",
      "An error occurred while fetching the article: Article `download()` failed with ('Connection aborted.', RemoteDisconnected('Remote end closed connection without response')) on URL https://news.google.com/rss/articles/CBMiQGh0dHBzOi8vbW92aWV3ZWIuY29tL29yaWdpbmFsLW5vbi1mcmFuY2hpc2UtbW92aWVzLTIwMjMtcmVsZWFzZS_SAQA?oc=5&hl=en-CA&gl=CA&ceid=CA:en\n",
      "An error occurred while fetching the article: Article `download()` failed with HTTPSConnectionPool(host='www.unilad.com', port=443): Read timed out. (read timeout=7) on URL https://news.google.com/rss/articles/CBMiWGh0dHBzOi8vd3d3LnVuaWxhZC5jb20vZmlsbS1hbmQtdHYvc3RyYXlzLXRyYWlsZXItd2lsbC1mZXJyZWxsLWphbWllLWZveC03MzIzNzYtMjAyMzAyMTDSAQA?oc=5&hl=en-CA&gl=CA&ceid=CA:en\n",
      "An error occurred while fetching the article: Article `download()` failed with 403 Client Error: 403 for url: https://warwickonline.com/stories/winnie-the-pooh-blood-and-honey-notallbears-at-showcase-cinemas,196108 on URL https://news.google.com/rss/articles/CBMiaGh0dHBzOi8vd2Fyd2lja29ubGluZS5jb20vc3Rvcmllcy93aW5uaWUtdGhlLXBvb2gtYmxvb2QtYW5kLWhvbmV5LW5vdGFsbGJlYXJzLWF0LXNob3djYXNlLWNpbmVtYXMsMTk2MTA40gEA?oc=5&hl=en-CA&gl=CA&ceid=CA:en\n",
      "An error occurred while fetching the article: Article `download()` failed with HTTPSConnectionPool(host='www.unilad.com', port=443): Read timed out. (read timeout=7) on URL https://news.google.com/rss/articles/CBMiWmh0dHBzOi8vd3d3LnVuaWxhZC5jb20vY2VsZWJyaXR5L2NpbmR5LWNyYXdmb3JkLWNvY2FpbmUtaW5jaWRlbnQtbW9kZWxsaW5nLTEwNzI5Ny0yMDIzMDIyMNIBAA?oc=5&hl=en-CA&gl=CA&ceid=CA:en\n",
      "An error occurred while fetching the article: Article `download()` failed with ('Connection aborted.', RemoteDisconnected('Remote end closed connection without response')) on URL https://news.google.com/rss/articles/CBMiRWh0dHBzOi8vc2NyZWVucmFudC5jb20vYXZhdGFyLXdheS13YXRlci1ib3gtb2ZmaWNlLXJ1bi1wbGFjZS1kZXRhaWxzL9IBAA?oc=5&hl=en-CA&gl=CA&ceid=CA:en\n",
      "An error occurred while fetching the article: Article `download()` failed with ('Connection aborted.', RemoteDisconnected('Remote end closed connection without response')) on URL https://news.google.com/rss/articles/CBMiNWh0dHBzOi8vc2NyZWVucmFudC5jb20vYmVzdC10cmFpbGVycy1mb3ItMjAyMy1tb3ZpZXMv0gEA?oc=5&hl=en-CA&gl=CA&ceid=CA:en\n",
      "An error occurred while fetching the article: Article `download()` failed with ('Connection aborted.', RemoteDisconnected('Remote end closed connection without response')) on URL https://news.google.com/rss/articles/CBMiOWh0dHBzOi8vc2NyZWVucmFudC5jb20vZmFpci1wbGF5LXN1bmRhbmNlLWNhc3QtaW50ZXJ2aWV3L9IBAA?oc=5&hl=en-CA&gl=CA&ceid=CA:en\n",
      "617 Articles with full text\n",
      "categorizing\n",
      "617 Articles categorized\n"
     ]
    }
   ],
   "source": [
    "cba = [\"Ray Liotta\",\"Keri Russell\"]\n",
    "cbd = [\"Elizabeth Banks\"]\n",
    "cbr = datetime(2023, 2, 22)\n",
    "cbgi = 89684427\n",
    "cb_movie = Movie('Cocaine Bear',cba,cbd,cbr,cbgi,'')\n",
    "cb_movie.get_df()"
   ]
  },
  {
   "cell_type": "code",
   "execution_count": 88,
   "metadata": {},
   "outputs": [
    {
     "name": "stdout",
     "output_type": "stream",
     "text": [
      "fetching articles\n",
      "Spider-Man: Across the Spider-Verse: 78 Articles found\n",
      "Spider-Man: Across the Spider-Verse: 98 Articles found\n",
      "Ray Liotta: 98 Articles found\n",
      "Ray Liotta: 100 Articles found\n",
      "Keri Russell: 96 Articles found\n",
      "Keri Russell: 96 Articles found\n",
      "Joaquim Dos Santos: 94 Articles found\n",
      "Joaquim Dos Santos: 96 Articles found\n",
      "Kemp Powers: 95 Articles found\n",
      "Kemp Powers: 98 Articles found\n",
      "Justin K. Thompson: 94 Articles found\n",
      "Justin K. Thompson: 97 Articles found\n",
      "869 Articles found\n",
      "getting text\n",
      "An error occurred while fetching the article: Article `download()` failed with 403 Client Error: Forbidden for url: https://www.fortnite.com/news/the-spider-verse-brings-web-shooters-miles-morales-and-more-to-fortnite?lang=en-US on URL https://news.google.com/rss/articles/CBMicGh0dHBzOi8vd3d3LmZvcnRuaXRlLmNvbS9uZXdzL3RoZS1zcGlkZXItdmVyc2UtYnJpbmdzLXdlYi1zaG9vdGVycy1taWxlcy1tb3JhbGVzLWFuZC1tb3JlLXRvLWZvcnRuaXRlP2xhbmc9ZW4tVVPSAQA?oc=5&hl=en-CA&gl=CA&ceid=CA:en\n",
      "An error occurred while fetching the article: Article `download()` failed with ('Connection aborted.', RemoteDisconnected('Remote end closed connection without response')) on URL https://news.google.com/rss/articles/CBMiUGh0dHBzOi8vZ2FtZXJhbnQuY29tL3NwaWRlci1tYW4tYmVzdC1jb21pY3MtcmVhZC1iZWZvcmUtYWNyb3NzLXRoZS1zcGlkZXItdmVyc2Uv0gEA?oc=5&hl=en-CA&gl=CA&ceid=CA:en\n",
      "An error occurred while fetching the article: Article `download()` failed with ('Connection aborted.', RemoteDisconnected('Remote end closed connection without response')) on URL https://news.google.com/rss/articles/CBMiU2h0dHBzOi8vY29sbGlkZXIuY29tL3NwaWRlci1tYW4tYWNyb3NzLXRoZS1zcGlkZXItdmVyc2UtdHJhaWxlci1zcG90LW1pZ3VlbC1vLWhhcmEv0gEA?oc=5&hl=en-CA&gl=CA&ceid=CA:en\n",
      "An error occurred while fetching the article: Article `download()` failed with HTTPSConnectionPool(host='www.gamingbible.com', port=443): Read timed out. (read timeout=7) on URL https://news.google.com/rss/articles/CBMibGh0dHBzOi8vd3d3LmdhbWluZ2JpYmxlLmNvbS9mZWF0dXJlcy9zcGlkZXJtYW4tYWNyb3NzLXRoZS1zcGlkZXJ2ZXJzZS1qYWtlLWpvaG5zb24taW50ZXJ2aWV3LTM4Njc1OC0yMDIzMDUyNdIBAA?oc=5&hl=en-CA&gl=CA&ceid=CA:en\n",
      "An error occurred while fetching the article: Article `download()` failed with ('Connection aborted.', RemoteDisconnected('Remote end closed connection without response')) on URL https://news.google.com/rss/articles/CBMiRmh0dHBzOi8vd3d3LmNici5jb20vc3BpZGVyLW1hbi1hY3Jvc3Mtc3BpZGVyLXZlcnNlLW1ldHJvLWJvb21pbi1jYW1lby_SAQA?oc=5&hl=en-CA&gl=CA&ceid=CA:en\n",
      "An error occurred while fetching the article: Article `download()` failed with ('Connection aborted.', RemoteDisconnected('Remote end closed connection without response')) on URL https://news.google.com/rss/articles/CBMiSGh0dHBzOi8vY29sbGlkZXIuY29tL3NwaWRlci1tYW4tYWNyb3NzLXRoZS1zcGlkZXItdmVyc2UtZmFuLWFydC10cmFpbGVyL9IBAA?oc=5&hl=en-CA&gl=CA&ceid=CA:en\n",
      "An error occurred while fetching the article: Article `download()` failed with ('Connection aborted.', RemoteDisconnected('Remote end closed connection without response')) on URL https://news.google.com/rss/articles/CBMiSmh0dHBzOi8vY29sbGlkZXIuY29tL3NwaWRlci1tYW4tYWNyb3NzLXRoZS1zcGlkZXItdmVyc2UtdGVhc2VyLWd3ZW4tc3RhY3kv0gEA?oc=5&hl=en-CA&gl=CA&ceid=CA:en\n",
      "An error occurred while fetching the article: Article `download()` failed with ('Connection aborted.', RemoteDisconnected('Remote end closed connection without response')) on URL https://news.google.com/rss/articles/CBMiP2h0dHBzOi8vd3d3LmNici5jb20vbWlsZXMtbW9yYWxlcy1zcGlkZXItdmVyc2UtYW5pbWF0ZWQtc2VyaWVzL9IBAA?oc=5&hl=en-CA&gl=CA&ceid=CA:en\n",
      "An error occurred while fetching the article: Article `download()` failed with ('Connection aborted.', RemoteDisconnected('Remote end closed connection without response')) on URL https://news.google.com/rss/articles/CBMiRGh0dHBzOi8vbW92aWV3ZWIuY29tL3NwaWRlci1tYW4tYWNyb3NzLXRoZS1zcGlkZXItdmVyc2UtY2xpZmZoYW5nZXIv0gEA?oc=5&hl=en-CA&gl=CA&ceid=CA:en\n",
      "An error occurred while fetching the article: Article `download()` failed with 403 Client Error: Forbidden for url: https://auto.yugatech.com/news/hyundai-and-sony-spider-verse-collab/ on URL https://news.google.com/rss/articles/CBMiRGh0dHBzOi8vYXV0by55dWdhdGVjaC5jb20vbmV3cy9oeXVuZGFpLWFuZC1zb255LXNwaWRlci12ZXJzZS1jb2xsYWIv0gEA?oc=5&hl=en-CA&gl=CA&ceid=CA:en\n",
      "An error occurred while fetching the article: Article `download()` failed with 403 Client Error: Forbidden for url: https://auto.yugatech.com/news/hyundai-n-vision-74-pony-coupe-concept/ on URL https://news.google.com/rss/articles/CBMiRmh0dHBzOi8vYXV0by55dWdhdGVjaC5jb20vbmV3cy9oeXVuZGFpLW4tdmlzaW9uLTc0LXBvbnktY291cGUtY29uY2VwdC_SAQA?oc=5&hl=en-CA&gl=CA&ceid=CA:en\n",
      "An error occurred while fetching the article: Article `download()` failed with 403 Client Error: Forbidden for url: https://auto.yugatech.com/news/hyundai-n-74-production/ on URL https://news.google.com/rss/articles/CBMiN2h0dHBzOi8vYXV0by55dWdhdGVjaC5jb20vbmV3cy9oeXVuZGFpLW4tNzQtcHJvZHVjdGlvbi_SAQA?oc=5&hl=en-CA&gl=CA&ceid=CA:en\n",
      "An error occurred while fetching the article: Article `download()` failed with 403 Client Error: Forbidden for url: https://auto.yugatech.com/news/dotr-electric-puv-elevate-ph-transport/ on URL https://news.google.com/rss/articles/CBMiRmh0dHBzOi8vYXV0by55dWdhdGVjaC5jb20vbmV3cy9kb3RyLWVsZWN0cmljLXB1di1lbGV2YXRlLXBoLXRyYW5zcG9ydC_SAQA?oc=5&hl=en-CA&gl=CA&ceid=CA:en\n",
      "An error occurred while fetching the article: Article `download()` failed with 403 Client Error: Forbidden for url: https://auto.yugatech.com/news/toyota-raize-passes-crash-test/ on URL https://news.google.com/rss/articles/CBMiPmh0dHBzOi8vYXV0by55dWdhdGVjaC5jb20vbmV3cy90b3lvdGEtcmFpemUtcGFzc2VzLWNyYXNoLXRlc3Qv0gEA?oc=5&hl=en-CA&gl=CA&ceid=CA:en\n",
      "An error occurred while fetching the article: Article `download()` failed with 403 Client Error: Max restarts limit reached for url: https://www.forbes.com/sites/erikkain/2023/06/03/does-spider-man-across-the-spider-verse-have-a-post-credits-scene/ on URL https://news.google.com/rss/articles/CBMic2h0dHBzOi8vd3d3LmZvcmJlcy5jb20vc2l0ZXMvZXJpa2thaW4vMjAyMy8wNi8wMy9kb2VzLXNwaWRlci1tYW4tYWNyb3NzLXRoZS1zcGlkZXItdmVyc2UtaGF2ZS1hLXBvc3QtY3JlZGl0cy1zY2VuZS_SAXdodHRwczovL3d3dy5mb3JiZXMuY29tL3NpdGVzL2VyaWtrYWluLzIwMjMvMDYvMDMvZG9lcy1zcGlkZXItbWFuLWFjcm9zcy10aGUtc3BpZGVyLXZlcnNlLWhhdmUtYS1wb3N0LWNyZWRpdHMtc2NlbmUvYW1wLw?oc=5&hl=en-CA&gl=CA&ceid=CA:en\n",
      "An error occurred while fetching the article: Article `download()` failed with ('Connection aborted.', RemoteDisconnected('Remote end closed connection without response')) on URL https://news.google.com/rss/articles/CBMiU2h0dHBzOi8vZ2FtZXJhbnQuY29tL3NwaWRlcm1hbi1hY3Jvc3MtdGhlLXNwaWRlcnZlcnNlLWRvbmFsZC1nbG92ZXItcHJvd2xlci1mdXR1cmUv0gEA?oc=5&hl=en-CA&gl=CA&ceid=CA:en\n",
      "An error occurred while fetching the article: Article `download()` failed with ('Connection aborted.', RemoteDisconnected('Remote end closed connection without response')) on URL https://news.google.com/rss/articles/CBMiSWh0dHBzOi8vc2NyZWVucmFudC5jb20vZ3dlbi1zdGFjeS10aW1lbGluZS1zcGlkZXItdmVyc2UtZXZlbnRzLWV4cGxhaW5lZC_SAQA?oc=5&hl=en-CA&gl=CA&ceid=CA:en\n",
      "An error occurred while fetching the article: Article `download()` failed with ('Connection aborted.', RemoteDisconnected('Remote end closed connection without response')) on URL https://news.google.com/rss/articles/CBMiU2h0dHBzOi8vc2NyZWVucmFudC5jb20vZ3dlbi1zdGFjeS1kZWF0aC1hY3Jvc3MtdGhlLXNwaWRlcnZlcnNlLWNhbm9uLWV2ZW50LWZhbi1hcnQv0gEA?oc=5&hl=en-CA&gl=CA&ceid=CA:en\n",
      "An error occurred while fetching the article: Article `download()` failed with ('Connection aborted.', RemoteDisconnected('Remote end closed connection without response')) on URL https://news.google.com/rss/articles/CBMiUGh0dHBzOi8vc2NyZWVucmFudC5jb20vc3BpZGVybWFuLWJleW9uZC1zcGlkZXJ2ZXJzZS12aWxsYWluLXRoZW9yeS1jcmVlcHktY2hpbGQv0gEA?oc=5&hl=en-CA&gl=CA&ceid=CA:en\n",
      "An error occurred while fetching the article: Article `download()` failed with ('Connection aborted.', RemoteDisconnected('Remote end closed connection without response')) on URL https://news.google.com/rss/articles/CBMiSmh0dHBzOi8vc2NyZWVucmFudC5jb20vYWNyb3NzLXRoZS1zcGlkZXItdmVyc2UtZWFzdGVyLWVnZy1lZWFhby1jb25maXJtZWQv0gEA?oc=5&hl=en-CA&gl=CA&ceid=CA:en\n",
      "An error occurred while fetching the article: Article `download()` failed with ('Connection aborted.', RemoteDisconnected('Remote end closed connection without response')) on URL https://news.google.com/rss/articles/CBMiS2h0dHBzOi8vd3d3LmNici5jb20vYWNyb3NzLXRoZS1zcGlkZXItdmVyc2Utc3Rvcnlib2FyZHMtbWlsZXMtY29sbGVjdGlibGVzL9IBAA?oc=5&hl=en-CA&gl=CA&ceid=CA:en\n"
     ]
    },
    {
     "name": "stdout",
     "output_type": "stream",
     "text": [
      "An error occurred while fetching the article: Article `download()` failed with ('Connection aborted.', RemoteDisconnected('Remote end closed connection without response')) on URL https://news.google.com/rss/articles/CBMiWGh0dHBzOi8vbW92aWV3ZWIuY29tL29zY2FyLWlzYWFjLW1hcnZlbC1oaXN0b3J5LXNwaWRlci1tYW4tYWNyb3NzLXRoZS1zcGlkZXItdmVyc2UtMjA5OS_SAQA?oc=5&hl=en-CA&gl=CA&ceid=CA:en\n",
      "An error occurred while fetching the article: Article `download()` failed with ('Connection aborted.', RemoteDisconnected('Remote end closed connection without response')) on URL https://news.google.com/rss/articles/CBMiW2h0dHBzOi8vc2NyZWVucmFudC5jb20vc3BpZGVybWFuLXZpbGxhaW5zLXRyYXBwZWQtYnktc3BpZGVyLXNvY2lldHktYWNyb3NzLXRoZS1zcGlkZXJ2ZXJzZS_SAQA?oc=5&hl=en-CA&gl=CA&ceid=CA:en\n",
      "An error occurred while fetching the article: Article `download()` failed with ('Connection aborted.', RemoteDisconnected('Remote end closed connection without response')) on URL https://news.google.com/rss/articles/CBMiN2h0dHBzOi8vc2NyZWVucmFudC5jb20vc3BpZGVyLXZlcnNlLWd3ZW4tZGVhdGgtZmFuLWFydC_SAQA?oc=5&hl=en-CA&gl=CA&ceid=CA:en\n",
      "An error occurred while fetching the article: Article `download()` failed with ('Connection aborted.', RemoteDisconnected('Remote end closed connection without response')) on URL https://news.google.com/rss/articles/CBMiVGh0dHBzOi8vY29sbGlkZXIuY29tL3NwaWRlci1tYW4tYWNyb3NzLXRoZS1zcGlkZXItdmVyc2UtYWdlbnRzLW9mLXNoaWVsZC1jb25uZWN0aW9uL9IBAA?oc=5&hl=en-CA&gl=CA&ceid=CA:en\n",
      "An error occurred while fetching the article: Article `download()` failed with ('Connection aborted.', RemoteDisconnected('Remote end closed connection without response')) on URL https://news.google.com/rss/articles/CBMiM2h0dHBzOi8vbW92aWV3ZWIuY29tL2tldmluLWNvc3RuZXItYmFzZWJhbGwtbW92aWVzL9IBAA?oc=5&hl=en-CA&gl=CA&ceid=CA:en\n",
      "869 Articles with full text\n",
      "categorizing\n",
      "869 Articles categorized\n"
     ]
    }
   ],
   "source": [
    "sva = [\"Ray Liotta\",\"Keri Russell\"]\n",
    "svd = \"Joaquim Dos Santos,Kemp Powers,Justin K. Thompson\".split(sep=',')\n",
    "svr = datetime(2023, 6, 2)\n",
    "svgi = 682977332\n",
    "sv_movie = Movie('Spider-Man: Across the Spider-Verse',sva,svd,svr,svgi,'')\n",
    "sv_movie.get_df()"
   ]
  },
  {
   "cell_type": "code",
   "execution_count": null,
   "metadata": {},
   "outputs": [],
   "source": []
  },
  {
   "cell_type": "code",
   "execution_count": 109,
   "metadata": {},
   "outputs": [
    {
     "data": {
      "text/plain": [
       "<__main__.Movie at 0x7fb2181cd550>"
      ]
     },
     "execution_count": 109,
     "metadata": {},
     "output_type": "execute_result"
    }
   ],
   "source": []
  },
  {
   "cell_type": "code",
   "execution_count": 112,
   "metadata": {},
   "outputs": [],
   "source": [
    "movies = [barbie_movie,opp_movie,mi_movie,kfm_movie,bfgw_movie,cb_movie, sv_movie]"
   ]
  },
  {
   "cell_type": "code",
   "execution_count": null,
   "metadata": {},
   "outputs": [],
   "source": []
  },
  {
   "cell_type": "code",
   "execution_count": null,
   "metadata": {},
   "outputs": [],
   "source": []
  },
  {
   "cell_type": "code",
   "execution_count": 113,
   "metadata": {},
   "outputs": [],
   "source": [
    "def remove_uncat(movie):\n",
    "    df = movie.df\n",
    "    movie.df = movie.df[movie.df['Uncategorized'] == False]\n",
    "    return movie"
   ]
  },
  {
   "cell_type": "code",
   "execution_count": 114,
   "metadata": {},
   "outputs": [],
   "source": [
    "movies = [remove_uncat(movie) for movie in movies]\n",
    "categories = [\n",
    "    \"Box Office Performance and Industry Impact\",\n",
    "    \"Cultural and Social Commentary\",\n",
    "    \"Behind-the-Scenes and Production Insights\",\n",
    "    \"Fashion and Aesthetics\",\n",
    "    \"Celebrity and Cast Focus\",\n",
    "    \"Marketing and Promotional Strategies\",\n",
    "    \"Fan and Audience Reactions\",\n",
    "    \"Critique and Reviews\",\n",
    "    \"Merchandise and Commercial Tie-Ins\",\n",
    "    \"Global and Political Perspectives\"]"
   ]
  },
  {
   "cell_type": "code",
   "execution_count": 161,
   "metadata": {},
   "outputs": [],
   "source": [
    "def remove_special_characters(input_string):\n",
    "    # This regex pattern matches any character that is not a letter or a number\n",
    "    pattern = r'[^a-zA-Z0-9]'\n",
    "    # Replace these characters with an empty string\n",
    "    cleaned_string = re.sub(pattern, '', input_string)\n",
    "    return cleaned_string\n",
    "\n",
    "def save_movie(movie):\n",
    "    filename = 'movie_jsons/' + remove_special_characters(movie.title).replace(' ','_') + '.json'\n",
    "    df.reset_index(drop=True).to_json(filename)"
   ]
  },
  {
   "cell_type": "code",
   "execution_count": 162,
   "metadata": {},
   "outputs": [
    {
     "data": {
      "text/plain": [
       "[None, None, None, None, None, None, None]"
      ]
     },
     "execution_count": 162,
     "metadata": {},
     "output_type": "execute_result"
    }
   ],
   "source": [
    "[save_movie(movie) for movie in movies]"
   ]
  },
  {
   "cell_type": "code",
   "execution_count": 148,
   "metadata": {},
   "outputs": [],
   "source": [
    "article_counts = [movie.df.shape[0] for movie in movies]\n",
    "data = dict(zip(movie_names,article_counts))\n"
   ]
  },
  {
   "cell_type": "code",
   "execution_count": 149,
   "metadata": {},
   "outputs": [
    {
     "data": {
      "text/plain": [
       "{'Barbie': 706,\n",
       " 'Oppenheimer': 692,\n",
       " 'Mission: Impossible': 638,\n",
       " 'Killers of the Flower Moon': 658,\n",
       " 'My Big Fat Greek Wedding 3': 434,\n",
       " 'Cocaine Bear': 561,\n",
       " 'Spider-Man: Across the Spider-Verse': 814}"
      ]
     },
     "execution_count": 149,
     "metadata": {},
     "output_type": "execute_result"
    }
   ],
   "source": [
    "data"
   ]
  },
  {
   "cell_type": "code",
   "execution_count": 141,
   "metadata": {},
   "outputs": [
    {
     "data": {
      "image/png": "[encoded data removed]",
      "text/plain": [
       "<Figure size 1008x576 with 1 Axes>"
      ]
     },
     "metadata": {
      "needs_background": "light"
     },
     "output_type": "display_data"
    }
   ],
   "source": [
    "category_counts = [movie.df[list(categories)].sum() for movie in movies]\n",
    "movie_titles = [movie.title for movie in movies]\n",
    "\n",
    "# Create a DataFrame from the counts\n",
    "data = dict(zip(movie_titles,category_counts))\n",
    "df = pd.DataFrame(data)\n",
    "\n",
    "\n",
    "ax = df.plot(kind='bar', figsize=(14, 8))\n",
    "\n",
    "# Adding titles and labels using the ax object\n",
    "ax.set_title('Category Counts Comparison between Movies')\n",
    "ax.set_xlabel('Categories')\n",
    "ax.set_ylabel('Count')\n",
    "ax.set_xticklabels(ax.get_xticklabels(), rotation=45)\n",
    "plt.pyplot.tight_layout()\n",
    "plt.pyplot.savefig('category_counts.png',facecolor='white', transparent=False)"
   ]
  },
  {
   "cell_type": "code",
   "execution_count": null,
   "metadata": {},
   "outputs": [],
   "source": []
  },
  {
   "cell_type": "code",
   "execution_count": 120,
   "metadata": {},
   "outputs": [],
   "source": [
    "def get_percentage_box_office(movie, col_name):\n",
    "    df = movie.df\n",
    "    num_true = df[col_name].sum()\n",
    "    total = df[col_name].count()\n",
    "    return num_true/total"
   ]
  },
  {
   "cell_type": "code",
   "execution_count": null,
   "metadata": {},
   "outputs": [],
   "source": []
  },
  {
   "cell_type": "code",
   "execution_count": 140,
   "metadata": {},
   "outputs": [],
   "source": [
    "percentages_list = [[get_percentage_box_office(movie,cat) for movie in movies] for cat in categories]\n",
    "gross_income = [movie.gross_income for movie in movies]\n",
    "movie_names = [movie.title for movie in movies]\n",
    "\n",
    "# Create and save each subplot as an individual figure\n",
    "for i, percentages in enumerate(percentages_list):\n",
    "    fig, ax = plt.pyplot.subplots(figsize=(10, 6))\n",
    "    ax.scatter(gross_income, percentages)\n",
    "    ax.set_title(f\"Set {i + 1}: Percentage of Box Office Articles vs Movie Gross Income\")\n",
    "    ax.set_xlabel(\"Gross Income (in millions)\")\n",
    "    ax.set_ylabel(\"Percentage of Box Office Articles (%)\")\n",
    "    for j, name in enumerate(movie_names):\n",
    "        ax.annotate(name, (gross_income[j], percentages[j]))\n",
    "    \n",
    "    # Save each figure\n",
    "    plt.pyplot.savefig(f\"yianni_imgs/{categories[i].replace(' ','_')}.png\",facecolor='white', transparent=False)  # Change the path and filename as needed\n",
    "    plt.pyplot.close(fig)  # Close the figure to free up memory"
   ]
  },
  {
   "cell_type": "code",
   "execution_count": 131,
   "metadata": {},
   "outputs": [
    {
     "data": {
      "text/plain": [
       "'Global_and_Political_Perspectives'"
      ]
     },
     "execution_count": 131,
     "metadata": {},
     "output_type": "execute_result"
    }
   ],
   "source": []
  },
  {
   "cell_type": "code",
   "execution_count": null,
   "metadata": {},
   "outputs": [],
   "source": []
  },
  {
   "cell_type": "code",
   "execution_count": null,
   "metadata": {},
   "outputs": [],
   "source": []
  },
  {
   "cell_type": "code",
   "execution_count": 117,
   "metadata": {},
   "outputs": [
    {
     "data": {
      "image/png": "[encoded data removed]",
      "text/plain": [
       "<Figure size 720x432 with 1 Axes>"
      ]
     },
     "metadata": {
      "needs_background": "light"
     },
     "output_type": "display_data"
    }
   ],
   "source": [
    "percentage_of_box_office_articles = [get_percentage_box_office(movie) for movie in movies]\n",
    "gross_income = [movie.gross_income for movie in movies]\n",
    "movie_names = [movie.title for movie in movies]\n",
    "\n",
    "plt.pyplot.figure(figsize=(10, 6))\n",
    "plt.pyplot.scatter(gross_income, percentage_of_box_office_articles)\n",
    "\n",
    "# Adding labels and title\n",
    "plt.pyplot.title(\"Percentage of Box Office Articles vs Movie Gross Income\")\n",
    "plt.pyplot.xlabel(\"Gross Income (in millions)\")\n",
    "plt.pyplot.ylabel(\"Percentage of Box Office Articles (%)\")\n",
    "\n",
    "# Annotating each point with the movie name\n",
    "for i, name in enumerate(movie_names):\n",
    "    plt.pyplot.annotate(name, (gross_income[i], percentage_of_box_office_articles[i]))\n",
    "\n",
    "plt.pyplot.show()\n"
   ]
  },
  {
   "cell_type": "code",
   "execution_count": null,
   "metadata": {},
   "outputs": [],
   "source": []
  },
  {
   "cell_type": "code",
   "execution_count": null,
   "metadata": {},
   "outputs": [],
   "source": []
  },
  {
   "cell_type": "code",
   "execution_count": null,
   "metadata": {},
   "outputs": [],
   "source": []
  },
  {
   "cell_type": "code",
   "execution_count": null,
   "metadata": {},
   "outputs": [],
   "source": []
  },
  {
   "cell_type": "code",
   "execution_count": null,
   "metadata": {},
   "outputs": [],
   "source": []
  },
  {
   "cell_type": "code",
   "execution_count": null,
   "metadata": {},
   "outputs": [],
   "source": []
  },
  {
   "cell_type": "code",
   "execution_count": null,
   "metadata": {},
   "outputs": [],
   "source": []
  },
  {
   "cell_type": "code",
   "execution_count": null,
   "metadata": {},
   "outputs": [],
   "source": []
  }
 ],
 "metadata": {
  "kernelspec": {
   "display_name": "Python 3",
   "language": "python",
   "name": "python3"
  },
  "language_info": {
   "codemirror_mode": {
    "name": "ipython",
    "version": 3
   },
   "file_extension": ".py",
   "mimetype": "text/x-python",
   "name": "python",
   "nbconvert_exporter": "python",
   "pygments_lexer": "ipython3",
   "version": "3.8.3"
  }
 },
 "nbformat": 4,
 "nbformat_minor": 4
}
